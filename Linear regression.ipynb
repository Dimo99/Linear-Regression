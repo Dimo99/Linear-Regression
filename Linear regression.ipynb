{
 "cells": [
  {
   "cell_type": "code",
   "execution_count": 1,
   "metadata": {},
   "outputs": [],
   "source": [
    "%matplotlib inline"
   ]
  },
  {
   "cell_type": "code",
   "execution_count": 2,
   "metadata": {},
   "outputs": [],
   "source": [
    "import numpy as np\n",
    "import matplotlib.pyplot as plt\n",
    "import pandas as pd\n",
    "from sklearn.linear_model import LinearRegression\n",
    "from sklearn import preprocessing\n",
    "import math\n",
    "from sklearn.linear_model import SGDRegressor\n",
    "from sklearn.metrics import r2_score"
   ]
  },
  {
   "cell_type": "markdown",
   "metadata": {},
   "source": [
    "# Linear regression"
   ]
  },
  {
   "cell_type": "markdown",
   "metadata": {},
   "source": [
    "## Introduction"
   ]
  },
  {
   "cell_type": "markdown",
   "metadata": {},
   "source": [
    "### What is Machine Learning?"
   ]
  },
  {
   "cell_type": "markdown",
   "metadata": {},
   "source": [
    "To answer the question what is Machine learning we need to ask ourselves what is learning in general. The definition from\n",
    "google dictionary is `the acquisition of knowledge or skills through study, experience, or being taught.`. So in the same way\n",
    "humans learn. Machines can also learn and improve their abilities to perform certain task based on some given data."
   ]
  },
  {
   "cell_type": "markdown",
   "metadata": {},
   "source": [
    "### Supervised vs Unsupervised learning"
   ]
  },
  {
   "cell_type": "markdown",
   "metadata": {},
   "source": [
    "#### Supervised learning\n",
    "Again I want to make analogy to the reall world. Let's take example of how a small baby learns you can show the baby a banana and tell him this is banana\n",
    "and show him an apple and tell the baby this is an apple. Seeing this two things the baby observes the banana and the apple and remembers some features about them so when it sees a banana again it will know this is a banana. That type of learning is called supervised learning.\n",
    "\n",
    "The idea of supervised learning is that you provide the machine with a training data that consist of some example input and the correct output for this input. Then the machine will use the training data to build a model, which can predict the outcome of a new data based on past examples.\n",
    "\n",
    "#### Unsupervised learning\n",
    "\n",
    "But imagine another example the baby is shown some cats and dogs, the baby have not seen cats and dogs before so it does not know their features, but looking at them it can see the similarities between the different types of cat and dogs and it can see the differences between a cat and a dog the baby realizes this are two different group of animals.\n",
    "That is unsupervised learning, labeling the cat and dogs is not possible for the baby, but it can still find the difference.\n",
    "\n",
    "The idea of the unsupervised learning is to detect patterns in the data. Unsupervised learning allows us to approach problems with little or no idea what our results should look like. We can derive structure from data where we don't necessarily know the effect of the variables. We can derive this structure by clustering the data based on relationships among the variables in the data."
   ]
  },
  {
   "cell_type": "markdown",
   "metadata": {},
   "source": [
    "### Classification vs Regression\n",
    "Two different types of supervised learning exist **Classification** and **Regresion**. The difference between two is that Regression outputs a continues variable for given input, and classification outputs a categorial output for given input.\n",
    "\n",
    "Example of an classification problem will be giving the machine some picture and the machine tells if you have a cat or dog on the picture. Or giving the machine some information about insurance claims and the machine tells you if this claim should be conpensated or not. Example of a regression problem will be giving the machine some information about a car and the machine should tell how much money could this car cost.  \n",
    "\n",
    "Some algorithms used for classification problems:\n",
    "* Logistic Regression\n",
    "* Naive Bayes Classifier\n",
    "* k-nearest-neighbors\n",
    "* Support Vector Machines\n",
    "* Decision Trees\n",
    "\n",
    "Some algorithms used for regression problems:\n",
    "* Linear Regression model\n",
    "* Polynomial regression\n",
    "* Lasso Regression\n",
    "* Stepwise Regression"
   ]
  },
  {
   "cell_type": "markdown",
   "metadata": {},
   "source": [
    "## What is Linear regression?"
   ]
  },
  {
   "cell_type": "markdown",
   "metadata": {},
   "source": [
    "In this notebook I will provide a description to what is linear regresion, where it is applied, how it is implemented and how it is evaluated.\n",
    "\n",
    "Linear regression is used for finding linear relationship between target and predictors.\n",
    "Let's look at an example data points, showing temperature in Celsius in one column and coressponding temperature in Farenheit in the second column:"
   ]
  },
  {
   "cell_type": "markdown",
   "metadata": {},
   "source": [
    "### Data that is described by a line"
   ]
  },
  {
   "cell_type": "markdown",
   "metadata": {},
   "source": [
    "Let's look at some data which shows, temperature in Celsius in one column and it coresponding temperature in Fahrenheit in the other column."
   ]
  },
  {
   "cell_type": "code",
   "execution_count": 3,
   "metadata": {},
   "outputs": [
    {
     "data": {
      "text/html": [
       "<div>\n",
       "<style scoped>\n",
       "    .dataframe tbody tr th:only-of-type {\n",
       "        vertical-align: middle;\n",
       "    }\n",
       "\n",
       "    .dataframe tbody tr th {\n",
       "        vertical-align: top;\n",
       "    }\n",
       "\n",
       "    .dataframe thead th {\n",
       "        text-align: right;\n",
       "    }\n",
       "</style>\n",
       "<table border=\"1\" class=\"dataframe\">\n",
       "  <thead>\n",
       "    <tr style=\"text-align: right;\">\n",
       "      <th></th>\n",
       "      <th>Celsius</th>\n",
       "      <th>Fahrenheit</th>\n",
       "    </tr>\n",
       "  </thead>\n",
       "  <tbody>\n",
       "    <tr>\n",
       "      <td>0</td>\n",
       "      <td>21</td>\n",
       "      <td>69.8</td>\n",
       "    </tr>\n",
       "    <tr>\n",
       "      <td>1</td>\n",
       "      <td>8</td>\n",
       "      <td>46.4</td>\n",
       "    </tr>\n",
       "    <tr>\n",
       "      <td>2</td>\n",
       "      <td>13</td>\n",
       "      <td>55.4</td>\n",
       "    </tr>\n",
       "    <tr>\n",
       "      <td>3</td>\n",
       "      <td>19</td>\n",
       "      <td>66.2</td>\n",
       "    </tr>\n",
       "    <tr>\n",
       "      <td>4</td>\n",
       "      <td>10</td>\n",
       "      <td>50.0</td>\n",
       "    </tr>\n",
       "    <tr>\n",
       "      <td>5</td>\n",
       "      <td>18</td>\n",
       "      <td>64.4</td>\n",
       "    </tr>\n",
       "  </tbody>\n",
       "</table>\n",
       "</div>"
      ],
      "text/plain": [
       "   Celsius  Fahrenheit\n",
       "0       21        69.8\n",
       "1        8        46.4\n",
       "2       13        55.4\n",
       "3       19        66.2\n",
       "4       10        50.0\n",
       "5       18        64.4"
      ]
     },
     "execution_count": 3,
     "metadata": {},
     "output_type": "execute_result"
    }
   ],
   "source": [
    "celsius_to_fahrenheit = pd.read_csv(\"data/celsius-to-fahrenheit.csv\")\n",
    "celsius_to_fahrenheit"
   ]
  },
  {
   "cell_type": "markdown",
   "metadata": {},
   "source": [
    "Let's plot it"
   ]
  },
  {
   "cell_type": "code",
   "execution_count": 4,
   "metadata": {},
   "outputs": [
    {
     "data": {
      "image/png": "[encoded data removed]",
      "text/plain": [
       "<Figure size 432x288 with 1 Axes>"
      ]
     },
     "metadata": {
      "needs_background": "light"
     },
     "output_type": "display_data"
    }
   ],
   "source": [
    "plt.scatter(celsius_to_fahrenheit[\"Fahrenheit\"], celsius_to_fahrenheit[\"Celsius\"])\n",
    "plt.xlabel(\"Fahrenheit\")\n",
    "plt.ylabel(\"Celsius\")\n",
    "plt.show()"
   ]
  },
  {
   "cell_type": "markdown",
   "metadata": {},
   "source": [
    "Looking at the plot and the points it is obvious that they are lying on the same line. That is because actually this plot represent two lineary dependent variables. The formula for conversion from celsius to farenheit is:"
   ]
  },
  {
   "cell_type": "markdown",
   "metadata": {},
   "source": [
    "$$ T_{(°C)} = (T_{(°F)} - 32) \\times 5/9 $$"
   ]
  },
  {
   "cell_type": "markdown",
   "metadata": {},
   "source": [
    "Let's draw the line."
   ]
  },
  {
   "cell_type": "code",
   "execution_count": 5,
   "metadata": {
    "scrolled": true
   },
   "outputs": [
    {
     "data": {
      "image/png": "[encoded data removed]",
      "text/plain": [
       "<Figure size 432x288 with 1 Axes>"
      ]
     },
     "metadata": {
      "needs_background": "light"
     },
     "output_type": "display_data"
    }
   ],
   "source": [
    "x = np.linspace(celsius_to_fahrenheit[\"Fahrenheit\"].min(), celsius_to_fahrenheit[\"Fahrenheit\"].max())\n",
    "y = (x - 32) * (5 / 9)\n",
    "plt.plot(x, y)\n",
    "plt.scatter(celsius_to_fahrenheit[\"Fahrenheit\"], celsius_to_fahrenheit[\"Celsius\"])\n",
    "plt.xlabel(\"Fahrenheit\")\n",
    "plt.ylabel(\"Celsius\")\n",
    "plt.show()"
   ]
  },
  {
   "cell_type": "markdown",
   "metadata": {},
   "source": [
    "The line we have drawn can help us find the celsius temperature given only the fahrenheit temperature.\n",
    "But lets look at a little bit more interesting example."
   ]
  },
  {
   "cell_type": "markdown",
   "metadata": {},
   "source": [
    "### Data that is almost described by a line"
   ]
  },
  {
   "cell_type": "markdown",
   "metadata": {},
   "source": [
    "Here we have some data about a city its population and a revenue for a given company from this city."
   ]
  },
  {
   "cell_type": "code",
   "execution_count": 6,
   "metadata": {},
   "outputs": [
    {
     "data": {
      "text/html": [
       "<div>\n",
       "<style scoped>\n",
       "    .dataframe tbody tr th:only-of-type {\n",
       "        vertical-align: middle;\n",
       "    }\n",
       "\n",
       "    .dataframe tbody tr th {\n",
       "        vertical-align: top;\n",
       "    }\n",
       "\n",
       "    .dataframe thead th {\n",
       "        text-align: right;\n",
       "    }\n",
       "</style>\n",
       "<table border=\"1\" class=\"dataframe\">\n",
       "  <thead>\n",
       "    <tr style=\"text-align: right;\">\n",
       "      <th></th>\n",
       "      <th>Population</th>\n",
       "      <th>Profit</th>\n",
       "    </tr>\n",
       "  </thead>\n",
       "  <tbody>\n",
       "    <tr>\n",
       "      <td>0</td>\n",
       "      <td>6.1101</td>\n",
       "      <td>17.59200</td>\n",
       "    </tr>\n",
       "    <tr>\n",
       "      <td>1</td>\n",
       "      <td>5.5277</td>\n",
       "      <td>9.13020</td>\n",
       "    </tr>\n",
       "    <tr>\n",
       "      <td>2</td>\n",
       "      <td>8.5186</td>\n",
       "      <td>13.66200</td>\n",
       "    </tr>\n",
       "    <tr>\n",
       "      <td>3</td>\n",
       "      <td>7.0032</td>\n",
       "      <td>11.85400</td>\n",
       "    </tr>\n",
       "    <tr>\n",
       "      <td>4</td>\n",
       "      <td>5.8598</td>\n",
       "      <td>6.82330</td>\n",
       "    </tr>\n",
       "    <tr>\n",
       "      <td>...</td>\n",
       "      <td>...</td>\n",
       "      <td>...</td>\n",
       "    </tr>\n",
       "    <tr>\n",
       "      <td>92</td>\n",
       "      <td>5.8707</td>\n",
       "      <td>7.20290</td>\n",
       "    </tr>\n",
       "    <tr>\n",
       "      <td>93</td>\n",
       "      <td>5.3054</td>\n",
       "      <td>1.98690</td>\n",
       "    </tr>\n",
       "    <tr>\n",
       "      <td>94</td>\n",
       "      <td>8.2934</td>\n",
       "      <td>0.14454</td>\n",
       "    </tr>\n",
       "    <tr>\n",
       "      <td>95</td>\n",
       "      <td>13.3940</td>\n",
       "      <td>9.05510</td>\n",
       "    </tr>\n",
       "    <tr>\n",
       "      <td>96</td>\n",
       "      <td>5.4369</td>\n",
       "      <td>0.61705</td>\n",
       "    </tr>\n",
       "  </tbody>\n",
       "</table>\n",
       "<p>97 rows × 2 columns</p>\n",
       "</div>"
      ],
      "text/plain": [
       "    Population    Profit\n",
       "0       6.1101  17.59200\n",
       "1       5.5277   9.13020\n",
       "2       8.5186  13.66200\n",
       "3       7.0032  11.85400\n",
       "4       5.8598   6.82330\n",
       "..         ...       ...\n",
       "92      5.8707   7.20290\n",
       "93      5.3054   1.98690\n",
       "94      8.2934   0.14454\n",
       "95     13.3940   9.05510\n",
       "96      5.4369   0.61705\n",
       "\n",
       "[97 rows x 2 columns]"
      ]
     },
     "execution_count": 6,
     "metadata": {},
     "output_type": "execute_result"
    }
   ],
   "source": [
    "population_profit = pd.read_csv(\"data/population-profit.csv\", header = None, names = [\"Population\", \"Profit\"])\n",
    "population_profit"
   ]
  },
  {
   "cell_type": "code",
   "execution_count": 7,
   "metadata": {},
   "outputs": [
    {
     "data": {
      "image/png": "[encoded data removed]",
      "text/plain": [
       "<Figure size 432x288 with 1 Axes>"
      ]
     },
     "metadata": {
      "needs_background": "light"
     },
     "output_type": "display_data"
    }
   ],
   "source": [
    "population_profit.plot(kind = \"scatter\", x = 0, y = 1)\n",
    "plt.show()"
   ]
  },
  {
   "cell_type": "markdown",
   "metadata": {},
   "source": [
    "Clearly there is no line that passes through all the points exactly, but there is a trend. So maybe we can find a line that could describe this trend. And there is a logic that the population of the city will influance the profit we make.  \n",
    "We can still try to run a line through this points that will try to predict the profit based on the city population. What we would like for this line is to minimize the error on the training data it is provided with.  \n",
    "We will define `eror = actual_output - predicted_output`. And what we would like is to minimize it for all the data in our training set. So we will try to minimize this global error.\n",
    "\n",
    "$$ Error = \\sum_{i=1}^n(actual\\_output - predicted\\_output)^2 $$"
   ]
  },
  {
   "cell_type": "markdown",
   "metadata": {},
   "source": [
    "We are minimizing the squared error because if we don't then positive and negative error will cancel out. Actually one of the assumptions we have when we are running linear regression is **that the error will have normal distribution, with a mean 0.**. The other assumption that is obvious is that **the output will have some dependence to the input that can be expressed as a linear function**."
   ]
  },
  {
   "cell_type": "markdown",
   "metadata": {},
   "source": [
    "### Normal equation method"
   ]
  },
  {
   "cell_type": "markdown",
   "metadata": {},
   "source": [
    "Lets look at a slightly more comlicated example. Here we have a dataset that describe houses with their size in square feet, how many bedrooms they have and what is the price. So our linear regresion will try to fit the a line in the 3d space that will best fit the input `(size, bedrooms)` to the output `price`"
   ]
  },
  {
   "cell_type": "code",
   "execution_count": 8,
   "metadata": {},
   "outputs": [
    {
     "data": {
      "text/html": [
       "<div>\n",
       "<style scoped>\n",
       "    .dataframe tbody tr th:only-of-type {\n",
       "        vertical-align: middle;\n",
       "    }\n",
       "\n",
       "    .dataframe tbody tr th {\n",
       "        vertical-align: top;\n",
       "    }\n",
       "\n",
       "    .dataframe thead th {\n",
       "        text-align: right;\n",
       "    }\n",
       "</style>\n",
       "<table border=\"1\" class=\"dataframe\">\n",
       "  <thead>\n",
       "    <tr style=\"text-align: right;\">\n",
       "      <th></th>\n",
       "      <th>Size</th>\n",
       "      <th>Bedrooms</th>\n",
       "      <th>Price</th>\n",
       "    </tr>\n",
       "  </thead>\n",
       "  <tbody>\n",
       "    <tr>\n",
       "      <td>0</td>\n",
       "      <td>2104</td>\n",
       "      <td>3</td>\n",
       "      <td>399900</td>\n",
       "    </tr>\n",
       "    <tr>\n",
       "      <td>1</td>\n",
       "      <td>1600</td>\n",
       "      <td>3</td>\n",
       "      <td>329900</td>\n",
       "    </tr>\n",
       "    <tr>\n",
       "      <td>2</td>\n",
       "      <td>2400</td>\n",
       "      <td>3</td>\n",
       "      <td>369000</td>\n",
       "    </tr>\n",
       "    <tr>\n",
       "      <td>3</td>\n",
       "      <td>1416</td>\n",
       "      <td>2</td>\n",
       "      <td>232000</td>\n",
       "    </tr>\n",
       "    <tr>\n",
       "      <td>4</td>\n",
       "      <td>3000</td>\n",
       "      <td>4</td>\n",
       "      <td>539900</td>\n",
       "    </tr>\n",
       "    <tr>\n",
       "      <td>5</td>\n",
       "      <td>1985</td>\n",
       "      <td>4</td>\n",
       "      <td>299900</td>\n",
       "    </tr>\n",
       "    <tr>\n",
       "      <td>6</td>\n",
       "      <td>1534</td>\n",
       "      <td>3</td>\n",
       "      <td>314900</td>\n",
       "    </tr>\n",
       "    <tr>\n",
       "      <td>7</td>\n",
       "      <td>1427</td>\n",
       "      <td>3</td>\n",
       "      <td>198999</td>\n",
       "    </tr>\n",
       "    <tr>\n",
       "      <td>8</td>\n",
       "      <td>1380</td>\n",
       "      <td>3</td>\n",
       "      <td>212000</td>\n",
       "    </tr>\n",
       "    <tr>\n",
       "      <td>9</td>\n",
       "      <td>1494</td>\n",
       "      <td>3</td>\n",
       "      <td>242500</td>\n",
       "    </tr>\n",
       "    <tr>\n",
       "      <td>10</td>\n",
       "      <td>1940</td>\n",
       "      <td>4</td>\n",
       "      <td>239999</td>\n",
       "    </tr>\n",
       "    <tr>\n",
       "      <td>11</td>\n",
       "      <td>2000</td>\n",
       "      <td>3</td>\n",
       "      <td>347000</td>\n",
       "    </tr>\n",
       "    <tr>\n",
       "      <td>12</td>\n",
       "      <td>1890</td>\n",
       "      <td>3</td>\n",
       "      <td>329999</td>\n",
       "    </tr>\n",
       "    <tr>\n",
       "      <td>13</td>\n",
       "      <td>4478</td>\n",
       "      <td>5</td>\n",
       "      <td>699900</td>\n",
       "    </tr>\n",
       "    <tr>\n",
       "      <td>14</td>\n",
       "      <td>1268</td>\n",
       "      <td>3</td>\n",
       "      <td>259900</td>\n",
       "    </tr>\n",
       "    <tr>\n",
       "      <td>15</td>\n",
       "      <td>2300</td>\n",
       "      <td>4</td>\n",
       "      <td>449900</td>\n",
       "    </tr>\n",
       "    <tr>\n",
       "      <td>16</td>\n",
       "      <td>1320</td>\n",
       "      <td>2</td>\n",
       "      <td>299900</td>\n",
       "    </tr>\n",
       "    <tr>\n",
       "      <td>17</td>\n",
       "      <td>1236</td>\n",
       "      <td>3</td>\n",
       "      <td>199900</td>\n",
       "    </tr>\n",
       "    <tr>\n",
       "      <td>18</td>\n",
       "      <td>2609</td>\n",
       "      <td>4</td>\n",
       "      <td>499998</td>\n",
       "    </tr>\n",
       "    <tr>\n",
       "      <td>19</td>\n",
       "      <td>3031</td>\n",
       "      <td>4</td>\n",
       "      <td>599000</td>\n",
       "    </tr>\n",
       "    <tr>\n",
       "      <td>20</td>\n",
       "      <td>1767</td>\n",
       "      <td>3</td>\n",
       "      <td>252900</td>\n",
       "    </tr>\n",
       "    <tr>\n",
       "      <td>21</td>\n",
       "      <td>1888</td>\n",
       "      <td>2</td>\n",
       "      <td>255000</td>\n",
       "    </tr>\n",
       "    <tr>\n",
       "      <td>22</td>\n",
       "      <td>1604</td>\n",
       "      <td>3</td>\n",
       "      <td>242900</td>\n",
       "    </tr>\n",
       "    <tr>\n",
       "      <td>23</td>\n",
       "      <td>1962</td>\n",
       "      <td>4</td>\n",
       "      <td>259900</td>\n",
       "    </tr>\n",
       "    <tr>\n",
       "      <td>24</td>\n",
       "      <td>3890</td>\n",
       "      <td>3</td>\n",
       "      <td>573900</td>\n",
       "    </tr>\n",
       "    <tr>\n",
       "      <td>25</td>\n",
       "      <td>1100</td>\n",
       "      <td>3</td>\n",
       "      <td>249900</td>\n",
       "    </tr>\n",
       "    <tr>\n",
       "      <td>26</td>\n",
       "      <td>1458</td>\n",
       "      <td>3</td>\n",
       "      <td>464500</td>\n",
       "    </tr>\n",
       "    <tr>\n",
       "      <td>27</td>\n",
       "      <td>2526</td>\n",
       "      <td>3</td>\n",
       "      <td>469000</td>\n",
       "    </tr>\n",
       "    <tr>\n",
       "      <td>28</td>\n",
       "      <td>2200</td>\n",
       "      <td>3</td>\n",
       "      <td>475000</td>\n",
       "    </tr>\n",
       "    <tr>\n",
       "      <td>29</td>\n",
       "      <td>2637</td>\n",
       "      <td>3</td>\n",
       "      <td>299900</td>\n",
       "    </tr>\n",
       "    <tr>\n",
       "      <td>30</td>\n",
       "      <td>1839</td>\n",
       "      <td>2</td>\n",
       "      <td>349900</td>\n",
       "    </tr>\n",
       "    <tr>\n",
       "      <td>31</td>\n",
       "      <td>1000</td>\n",
       "      <td>1</td>\n",
       "      <td>169900</td>\n",
       "    </tr>\n",
       "    <tr>\n",
       "      <td>32</td>\n",
       "      <td>2040</td>\n",
       "      <td>4</td>\n",
       "      <td>314900</td>\n",
       "    </tr>\n",
       "    <tr>\n",
       "      <td>33</td>\n",
       "      <td>3137</td>\n",
       "      <td>3</td>\n",
       "      <td>579900</td>\n",
       "    </tr>\n",
       "    <tr>\n",
       "      <td>34</td>\n",
       "      <td>1811</td>\n",
       "      <td>4</td>\n",
       "      <td>285900</td>\n",
       "    </tr>\n",
       "    <tr>\n",
       "      <td>35</td>\n",
       "      <td>1437</td>\n",
       "      <td>3</td>\n",
       "      <td>249900</td>\n",
       "    </tr>\n",
       "    <tr>\n",
       "      <td>36</td>\n",
       "      <td>1239</td>\n",
       "      <td>3</td>\n",
       "      <td>229900</td>\n",
       "    </tr>\n",
       "    <tr>\n",
       "      <td>37</td>\n",
       "      <td>2132</td>\n",
       "      <td>4</td>\n",
       "      <td>345000</td>\n",
       "    </tr>\n",
       "    <tr>\n",
       "      <td>38</td>\n",
       "      <td>4215</td>\n",
       "      <td>4</td>\n",
       "      <td>549000</td>\n",
       "    </tr>\n",
       "    <tr>\n",
       "      <td>39</td>\n",
       "      <td>2162</td>\n",
       "      <td>4</td>\n",
       "      <td>287000</td>\n",
       "    </tr>\n",
       "    <tr>\n",
       "      <td>40</td>\n",
       "      <td>1664</td>\n",
       "      <td>2</td>\n",
       "      <td>368500</td>\n",
       "    </tr>\n",
       "    <tr>\n",
       "      <td>41</td>\n",
       "      <td>2238</td>\n",
       "      <td>3</td>\n",
       "      <td>329900</td>\n",
       "    </tr>\n",
       "    <tr>\n",
       "      <td>42</td>\n",
       "      <td>2567</td>\n",
       "      <td>4</td>\n",
       "      <td>314000</td>\n",
       "    </tr>\n",
       "    <tr>\n",
       "      <td>43</td>\n",
       "      <td>1200</td>\n",
       "      <td>3</td>\n",
       "      <td>299000</td>\n",
       "    </tr>\n",
       "    <tr>\n",
       "      <td>44</td>\n",
       "      <td>852</td>\n",
       "      <td>2</td>\n",
       "      <td>179900</td>\n",
       "    </tr>\n",
       "    <tr>\n",
       "      <td>45</td>\n",
       "      <td>1852</td>\n",
       "      <td>4</td>\n",
       "      <td>299900</td>\n",
       "    </tr>\n",
       "    <tr>\n",
       "      <td>46</td>\n",
       "      <td>1203</td>\n",
       "      <td>3</td>\n",
       "      <td>239500</td>\n",
       "    </tr>\n",
       "  </tbody>\n",
       "</table>\n",
       "</div>"
      ],
      "text/plain": [
       "    Size  Bedrooms   Price\n",
       "0   2104         3  399900\n",
       "1   1600         3  329900\n",
       "2   2400         3  369000\n",
       "3   1416         2  232000\n",
       "4   3000         4  539900\n",
       "5   1985         4  299900\n",
       "6   1534         3  314900\n",
       "7   1427         3  198999\n",
       "8   1380         3  212000\n",
       "9   1494         3  242500\n",
       "10  1940         4  239999\n",
       "11  2000         3  347000\n",
       "12  1890         3  329999\n",
       "13  4478         5  699900\n",
       "14  1268         3  259900\n",
       "15  2300         4  449900\n",
       "16  1320         2  299900\n",
       "17  1236         3  199900\n",
       "18  2609         4  499998\n",
       "19  3031         4  599000\n",
       "20  1767         3  252900\n",
       "21  1888         2  255000\n",
       "22  1604         3  242900\n",
       "23  1962         4  259900\n",
       "24  3890         3  573900\n",
       "25  1100         3  249900\n",
       "26  1458         3  464500\n",
       "27  2526         3  469000\n",
       "28  2200         3  475000\n",
       "29  2637         3  299900\n",
       "30  1839         2  349900\n",
       "31  1000         1  169900\n",
       "32  2040         4  314900\n",
       "33  3137         3  579900\n",
       "34  1811         4  285900\n",
       "35  1437         3  249900\n",
       "36  1239         3  229900\n",
       "37  2132         4  345000\n",
       "38  4215         4  549000\n",
       "39  2162         4  287000\n",
       "40  1664         2  368500\n",
       "41  2238         3  329900\n",
       "42  2567         4  314000\n",
       "43  1200         3  299000\n",
       "44   852         2  179900\n",
       "45  1852         4  299900\n",
       "46  1203         3  239500"
      ]
     },
     "execution_count": 8,
     "metadata": {},
     "output_type": "execute_result"
    }
   ],
   "source": [
    "house_prices = pd.read_csv(\"data/house-prices.csv\", header=None, names=[\"Size\", \"Bedrooms\", \"Price\"])\n",
    "house_prices"
   ]
  },
  {
   "cell_type": "markdown",
   "metadata": {},
   "source": [
    "Lets give a little bit more mathematical definition to our problem"
   ]
  },
  {
   "cell_type": "markdown",
   "metadata": {},
   "source": [
    "We will want to build a function $ h(x) = \\theta_0x_0 + \\ldots + \\theta_mx_m $ That for given  $ x = \\begin{pmatrix} x_0 & x_1 & \\ldots & x_m \\end{pmatrix} $ will return  best prediction $ y $. Where $ x_0 $ is always equal to one."
   ]
  },
  {
   "cell_type": "markdown",
   "metadata": {},
   "source": [
    "So we can imagine our training data input as an matrix $$ X = \\begin{pmatrix} x_0^0 & x_1^1 & \\ldots & x_m^1 \\\\\n",
    "\\vdots  & \\vdots &  & \\vdots  \\\\\n",
    "x_0^n & x_1^n & \\ldots & x_m^n\n",
    "\\end{pmatrix} $$\n",
    "And the result as a vector $$ y = \\begin{bmatrix}y^1 \\\\ y^2 \\\\ \\vdots \\\\ y^n \\end{bmatrix} $$"
   ]
  },
  {
   "cell_type": "markdown",
   "metadata": {},
   "source": [
    "So will find $ \\theta $ using the following equation.\n",
    "$$ \\theta = (X^TX)^{-1}X^Ty $$ "
   ]
  },
  {
   "cell_type": "markdown",
   "metadata": {},
   "source": [
    "This equation is called normal equation. And it finds the line that minimizes the sum of the square distances from the points Which is exactly what we want. The method of deriving this equation is out of the scope of this notebook, but if you are familiar with linear algebra concepts you can look how it is derived from this [Khan Academy video](https://www.khanacademy.org/math/linear-algebra/alternate-bases/orthogonal-projections/v/linear-algebra-least-squares-approximation)."
   ]
  },
  {
   "cell_type": "markdown",
   "metadata": {},
   "source": [
    "So now that we have the mathematical algorithm we can try implementing it in python. "
   ]
  },
  {
   "cell_type": "markdown",
   "metadata": {},
   "source": [
    "First we need to add $ x_0 $ as first column equal always to 1. That is how the term $ \\theta_0x_0 $ will represent the constant term in the line equation."
   ]
  },
  {
   "cell_type": "code",
   "execution_count": 9,
   "metadata": {},
   "outputs": [],
   "source": [
    "# add x_0 = 1\n",
    "population_profit.insert(0, \"$ x_0 $\", 1)\n",
    "house_prices.insert(0, \"$ x_0 $\", 1)"
   ]
  },
  {
   "cell_type": "markdown",
   "metadata": {},
   "source": [
    "Secondly we will implement two methods for converting dataframe to $ X $ matrix and $ y $ vector"
   ]
  },
  {
   "cell_type": "code",
   "execution_count": 10,
   "metadata": {},
   "outputs": [],
   "source": [
    "def getX(dataFrame):\n",
    "    (n, m) = dataFrame.shape\n",
    "    return dataFrame.iloc[:, 0:m - 1].values"
   ]
  },
  {
   "cell_type": "markdown",
   "metadata": {},
   "source": [
    "This is how the matrix of input variables $ X $ looks like for our population to profit data."
   ]
  },
  {
   "cell_type": "code",
   "execution_count": 11,
   "metadata": {},
   "outputs": [
    {
     "data": {
      "text/plain": [
       "array([[ 1.    ,  6.1101],\n",
       "       [ 1.    ,  5.5277],\n",
       "       [ 1.    ,  8.5186],\n",
       "       [ 1.    ,  7.0032],\n",
       "       [ 1.    ,  5.8598],\n",
       "       [ 1.    ,  8.3829],\n",
       "       [ 1.    ,  7.4764],\n",
       "       [ 1.    ,  8.5781],\n",
       "       [ 1.    ,  6.4862],\n",
       "       [ 1.    ,  5.0546],\n",
       "       [ 1.    ,  5.7107],\n",
       "       [ 1.    , 14.164 ],\n",
       "       [ 1.    ,  5.734 ],\n",
       "       [ 1.    ,  8.4084],\n",
       "       [ 1.    ,  5.6407],\n",
       "       [ 1.    ,  5.3794],\n",
       "       [ 1.    ,  6.3654],\n",
       "       [ 1.    ,  5.1301],\n",
       "       [ 1.    ,  6.4296],\n",
       "       [ 1.    ,  7.0708],\n",
       "       [ 1.    ,  6.1891],\n",
       "       [ 1.    , 20.27  ],\n",
       "       [ 1.    ,  5.4901],\n",
       "       [ 1.    ,  6.3261],\n",
       "       [ 1.    ,  5.5649],\n",
       "       [ 1.    , 18.945 ],\n",
       "       [ 1.    , 12.828 ],\n",
       "       [ 1.    , 10.957 ],\n",
       "       [ 1.    , 13.176 ],\n",
       "       [ 1.    , 22.203 ],\n",
       "       [ 1.    ,  5.2524],\n",
       "       [ 1.    ,  6.5894],\n",
       "       [ 1.    ,  9.2482],\n",
       "       [ 1.    ,  5.8918],\n",
       "       [ 1.    ,  8.2111],\n",
       "       [ 1.    ,  7.9334],\n",
       "       [ 1.    ,  8.0959],\n",
       "       [ 1.    ,  5.6063],\n",
       "       [ 1.    , 12.836 ],\n",
       "       [ 1.    ,  6.3534],\n",
       "       [ 1.    ,  5.4069],\n",
       "       [ 1.    ,  6.8825],\n",
       "       [ 1.    , 11.708 ],\n",
       "       [ 1.    ,  5.7737],\n",
       "       [ 1.    ,  7.8247],\n",
       "       [ 1.    ,  7.0931],\n",
       "       [ 1.    ,  5.0702],\n",
       "       [ 1.    ,  5.8014],\n",
       "       [ 1.    , 11.7   ],\n",
       "       [ 1.    ,  5.5416],\n",
       "       [ 1.    ,  7.5402],\n",
       "       [ 1.    ,  5.3077],\n",
       "       [ 1.    ,  7.4239],\n",
       "       [ 1.    ,  7.6031],\n",
       "       [ 1.    ,  6.3328],\n",
       "       [ 1.    ,  6.3589],\n",
       "       [ 1.    ,  6.2742],\n",
       "       [ 1.    ,  5.6397],\n",
       "       [ 1.    ,  9.3102],\n",
       "       [ 1.    ,  9.4536],\n",
       "       [ 1.    ,  8.8254],\n",
       "       [ 1.    ,  5.1793],\n",
       "       [ 1.    , 21.279 ],\n",
       "       [ 1.    , 14.908 ],\n",
       "       [ 1.    , 18.959 ],\n",
       "       [ 1.    ,  7.2182],\n",
       "       [ 1.    ,  8.2951],\n",
       "       [ 1.    , 10.236 ],\n",
       "       [ 1.    ,  5.4994],\n",
       "       [ 1.    , 20.341 ],\n",
       "       [ 1.    , 10.136 ],\n",
       "       [ 1.    ,  7.3345],\n",
       "       [ 1.    ,  6.0062],\n",
       "       [ 1.    ,  7.2259],\n",
       "       [ 1.    ,  5.0269],\n",
       "       [ 1.    ,  6.5479],\n",
       "       [ 1.    ,  7.5386],\n",
       "       [ 1.    ,  5.0365],\n",
       "       [ 1.    , 10.274 ],\n",
       "       [ 1.    ,  5.1077],\n",
       "       [ 1.    ,  5.7292],\n",
       "       [ 1.    ,  5.1884],\n",
       "       [ 1.    ,  6.3557],\n",
       "       [ 1.    ,  9.7687],\n",
       "       [ 1.    ,  6.5159],\n",
       "       [ 1.    ,  8.5172],\n",
       "       [ 1.    ,  9.1802],\n",
       "       [ 1.    ,  6.002 ],\n",
       "       [ 1.    ,  5.5204],\n",
       "       [ 1.    ,  5.0594],\n",
       "       [ 1.    ,  5.7077],\n",
       "       [ 1.    ,  7.6366],\n",
       "       [ 1.    ,  5.8707],\n",
       "       [ 1.    ,  5.3054],\n",
       "       [ 1.    ,  8.2934],\n",
       "       [ 1.    , 13.394 ],\n",
       "       [ 1.    ,  5.4369]])"
      ]
     },
     "execution_count": 11,
     "metadata": {},
     "output_type": "execute_result"
    }
   ],
   "source": [
    "getX(population_profit)"
   ]
  },
  {
   "cell_type": "code",
   "execution_count": 12,
   "metadata": {},
   "outputs": [],
   "source": [
    "def getY(dataFrame):\n",
    "    (n, m) = dataFrame.shape\n",
    "    return dataFrame.iloc[:, m - 1].values"
   ]
  },
  {
   "cell_type": "markdown",
   "metadata": {},
   "source": [
    "And this is how the output vector $ y $ looks for the same population data."
   ]
  },
  {
   "cell_type": "code",
   "execution_count": 13,
   "metadata": {},
   "outputs": [
    {
     "data": {
      "text/plain": [
       "array([17.592  ,  9.1302 , 13.662  , 11.854  ,  6.8233 , 11.886  ,\n",
       "        4.3483 , 12.     ,  6.5987 ,  3.8166 ,  3.2522 , 15.505  ,\n",
       "        3.1551 ,  7.2258 ,  0.71618,  3.5129 ,  5.3048 ,  0.56077,\n",
       "        3.6518 ,  5.3893 ,  3.1386 , 21.767  ,  4.263  ,  5.1875 ,\n",
       "        3.0825 , 22.638  , 13.501  ,  7.0467 , 14.692  , 24.147  ,\n",
       "       -1.22   ,  5.9966 , 12.134  ,  1.8495 ,  6.5426 ,  4.5623 ,\n",
       "        4.1164 ,  3.3928 , 10.117  ,  5.4974 ,  0.55657,  3.9115 ,\n",
       "        5.3854 ,  2.4406 ,  6.7318 ,  1.0463 ,  5.1337 ,  1.844  ,\n",
       "        8.0043 ,  1.0179 ,  6.7504 ,  1.8396 ,  4.2885 ,  4.9981 ,\n",
       "        1.4233 , -1.4211 ,  2.4756 ,  4.6042 ,  3.9624 ,  5.4141 ,\n",
       "        5.1694 , -0.74279, 17.929  , 12.054  , 17.054  ,  4.8852 ,\n",
       "        5.7442 ,  7.7754 ,  1.0173 , 20.992  ,  6.6799 ,  4.0259 ,\n",
       "        1.2784 ,  3.3411 , -2.6807 ,  0.29678,  3.8845 ,  5.7014 ,\n",
       "        6.7526 ,  2.0576 ,  0.47953,  0.20421,  0.67861,  7.5435 ,\n",
       "        5.3436 ,  4.2415 ,  6.7981 ,  0.92695,  0.152  ,  2.8214 ,\n",
       "        1.8451 ,  4.2959 ,  7.2029 ,  1.9869 ,  0.14454,  9.0551 ,\n",
       "        0.61705])"
      ]
     },
     "execution_count": 13,
     "metadata": {},
     "output_type": "execute_result"
    }
   ],
   "source": [
    "getY(population_profit)"
   ]
  },
  {
   "cell_type": "markdown",
   "metadata": {},
   "source": [
    "Now lets implement the function to calculate the normal equation for us."
   ]
  },
  {
   "cell_type": "code",
   "execution_count": 14,
   "metadata": {},
   "outputs": [],
   "source": [
    "def normal_equation(X, Y):\n",
    "    inverse_matrix = np.linalg.inv(np.dot(X.T, X))\n",
    "    multiply = np.dot(inverse_matrix, X.T)\n",
    "    theta = np.dot(multiply, Y)\n",
    "    return theta"
   ]
  },
  {
   "cell_type": "markdown",
   "metadata": {},
   "source": [
    "### Normal equation method testing"
   ]
  },
  {
   "cell_type": "markdown",
   "metadata": {},
   "source": [
    "Lets see the coeficients for the line that will best describe our data. And draw it. For this I will define a helper function that will accept given $ x $ and given $ \\theta $ and will return $ y $."
   ]
  },
  {
   "cell_type": "code",
   "execution_count": 15,
   "metadata": {},
   "outputs": [],
   "source": [
    "def hypothesis(x, theta):\n",
    "    return np.dot(x, theta)"
   ]
  },
  {
   "cell_type": "code",
   "execution_count": 16,
   "metadata": {},
   "outputs": [
    {
     "data": {
      "image/png": "[encoded data removed]",
      "text/plain": [
       "<Figure size 432x288 with 1 Axes>"
      ]
     },
     "metadata": {
      "needs_background": "light"
     },
     "output_type": "display_data"
    }
   ],
   "source": [
    "population_profit_X = getX(population_profit)\n",
    "population_profit_Y = getY(population_profit)\n",
    "theta = normal_equation(population_profit_X, population_profit_Y)\n",
    "\n",
    "population_profit.plot(kind=\"scatter\", x=1, y=2)\n",
    "plt.plot(population_profit_X[:, 1], hypothesis(population_profit_X, theta))\n",
    "plt.show()"
   ]
  },
  {
   "cell_type": "markdown",
   "metadata": {},
   "source": [
    "The normal equation method of linear regression calculation is implemented in `sklearn` library. In the `LinearRegression` class so we can test our implementation and see if it gets the same result as the `sklearn` implementation. "
   ]
  },
  {
   "cell_type": "code",
   "execution_count": 17,
   "metadata": {},
   "outputs": [],
   "source": [
    "reg = LinearRegression(fit_intercept=False)\n",
    "expected = reg.fit(population_profit_X, population_profit_Y).coef_\n",
    "actual = normal_equation(population_profit_X, population_profit_Y)\n",
    "assert all([math.isclose(a, e) for (a, e) in zip(actual, expected)])"
   ]
  },
  {
   "cell_type": "markdown",
   "metadata": {},
   "source": [
    "Turns out it works, let's test it with the house_prices data also."
   ]
  },
  {
   "cell_type": "code",
   "execution_count": 18,
   "metadata": {},
   "outputs": [],
   "source": [
    "house_prices_X = getX(house_prices)\n",
    "house_prices_Y = getY(house_prices)"
   ]
  },
  {
   "cell_type": "code",
   "execution_count": 19,
   "metadata": {},
   "outputs": [],
   "source": [
    "reg = LinearRegression(fit_intercept=False)\n",
    "expected = reg.fit(house_prices_X, house_prices_Y).coef_\n",
    "actual = normal_equation(house_prices_X, house_prices_Y)\n",
    "assert all([math.isclose(a, e) for a, e in zip(actual, expected)])"
   ]
  },
  {
   "cell_type": "markdown",
   "metadata": {},
   "source": [
    "Turns out our implementation gives identical results to the `sklearn` implemantation for our datasets. The line also looks like the best line for the `population_profit` data. So we can be pretty confident that this implemantation works as expected"
   ]
  },
  {
   "cell_type": "markdown",
   "metadata": {},
   "source": [
    "### Singular matrix"
   ]
  },
  {
   "cell_type": "markdown",
   "metadata": {},
   "source": [
    "There is one fundamental problem with our current implementation. What if the $ (X^TX) $ matrix is singular (non-invertable). Then our implemantation will not work. One matrix is singular if and only if it discriminant is equal to zero. That can happen if there are linearly dependent rows in the matrix. The common causes of this are:\n",
    "* **Redundant features, where two features are very closely related (i.e. they are linearly dependent)**\n",
    "* **Too many features**  \n",
    "\n",
    "In case of features that are **linearly dependend** to other features for example temperature in celsius and temperature in fahrenheit, **one of this features should be simpy removed**.  \n",
    "In case of **too many features**, some features could be omited, more data could be collected or some special technique called regularization could be applied. Let's try breaking our function"
   ]
  },
  {
   "cell_type": "code",
   "execution_count": 20,
   "metadata": {},
   "outputs": [
    {
     "data": {
      "text/html": [
       "<div>\n",
       "<style scoped>\n",
       "    .dataframe tbody tr th:only-of-type {\n",
       "        vertical-align: middle;\n",
       "    }\n",
       "\n",
       "    .dataframe tbody tr th {\n",
       "        vertical-align: top;\n",
       "    }\n",
       "\n",
       "    .dataframe thead th {\n",
       "        text-align: right;\n",
       "    }\n",
       "</style>\n",
       "<table border=\"1\" class=\"dataframe\">\n",
       "  <thead>\n",
       "    <tr style=\"text-align: right;\">\n",
       "      <th></th>\n",
       "      <th>$ x_0 $</th>\n",
       "      <th>Size (feet$^2$)</th>\n",
       "      <th>Number of bedrooms</th>\n",
       "      <th>Number of floors</th>\n",
       "      <th>Age of home (years)</th>\n",
       "      <th>Price ($1000)</th>\n",
       "    </tr>\n",
       "  </thead>\n",
       "  <tbody>\n",
       "    <tr>\n",
       "      <td>0</td>\n",
       "      <td>1</td>\n",
       "      <td>2104</td>\n",
       "      <td>5</td>\n",
       "      <td>1</td>\n",
       "      <td>45</td>\n",
       "      <td>460</td>\n",
       "    </tr>\n",
       "    <tr>\n",
       "      <td>1</td>\n",
       "      <td>1</td>\n",
       "      <td>1416</td>\n",
       "      <td>3</td>\n",
       "      <td>2</td>\n",
       "      <td>40</td>\n",
       "      <td>232</td>\n",
       "    </tr>\n",
       "  </tbody>\n",
       "</table>\n",
       "</div>"
      ],
      "text/plain": [
       "   $ x_0 $  Size (feet$^2$)  Number of bedrooms  Number of floors  \\\n",
       "0        1             2104                   5                 1   \n",
       "1        1             1416                   3                 2   \n",
       "\n",
       "   Age of home (years)  Price ($1000)  \n",
       "0                   45            460  \n",
       "1                   40            232  "
      ]
     },
     "execution_count": 20,
     "metadata": {},
     "output_type": "execute_result"
    }
   ],
   "source": [
    "singular_matrix = pd.read_csv(\"data/singular-matrix.csv\")\n",
    "singular_matrix.insert(0, \"$ x_0 $\", 1)\n",
    "singular_matrix"
   ]
  },
  {
   "cell_type": "code",
   "execution_count": 21,
   "metadata": {},
   "outputs": [],
   "source": [
    "singular_matrix_X = getX(singular_matrix)\n",
    "singular_matrix_Y = getY(singular_matrix)"
   ]
  },
  {
   "cell_type": "code",
   "execution_count": 22,
   "metadata": {},
   "outputs": [
    {
     "ename": "LinAlgError",
     "evalue": "Singular matrix",
     "output_type": "error",
     "traceback": [
      "\u001b[1;31m---------------------------------------------------------------------------\u001b[0m",
      "\u001b[1;31mLinAlgError\u001b[0m                               Traceback (most recent call last)",
      "\u001b[1;32m<ipython-input-22-f0daac96a1d6>\u001b[0m in \u001b[0;36m<module>\u001b[1;34m\u001b[0m\n\u001b[1;32m----> 1\u001b[1;33m \u001b[0mnormal_equation\u001b[0m\u001b[1;33m(\u001b[0m\u001b[0msingular_matrix_X\u001b[0m\u001b[1;33m,\u001b[0m \u001b[0msingular_matrix_Y\u001b[0m\u001b[1;33m)\u001b[0m\u001b[1;33m\u001b[0m\u001b[1;33m\u001b[0m\u001b[0m\n\u001b[0m",
      "\u001b[1;32m<ipython-input-14-ee027e6da9e2>\u001b[0m in \u001b[0;36mnormal_equation\u001b[1;34m(X, Y)\u001b[0m\n\u001b[0;32m      1\u001b[0m \u001b[1;32mdef\u001b[0m \u001b[0mnormal_equation\u001b[0m\u001b[1;33m(\u001b[0m\u001b[0mX\u001b[0m\u001b[1;33m,\u001b[0m \u001b[0mY\u001b[0m\u001b[1;33m)\u001b[0m\u001b[1;33m:\u001b[0m\u001b[1;33m\u001b[0m\u001b[1;33m\u001b[0m\u001b[0m\n\u001b[1;32m----> 2\u001b[1;33m     \u001b[0minverse_matrix\u001b[0m \u001b[1;33m=\u001b[0m \u001b[0mnp\u001b[0m\u001b[1;33m.\u001b[0m\u001b[0mlinalg\u001b[0m\u001b[1;33m.\u001b[0m\u001b[0minv\u001b[0m\u001b[1;33m(\u001b[0m\u001b[0mnp\u001b[0m\u001b[1;33m.\u001b[0m\u001b[0mdot\u001b[0m\u001b[1;33m(\u001b[0m\u001b[0mX\u001b[0m\u001b[1;33m.\u001b[0m\u001b[0mT\u001b[0m\u001b[1;33m,\u001b[0m \u001b[0mX\u001b[0m\u001b[1;33m)\u001b[0m\u001b[1;33m)\u001b[0m\u001b[1;33m\u001b[0m\u001b[1;33m\u001b[0m\u001b[0m\n\u001b[0m\u001b[0;32m      3\u001b[0m     \u001b[0mmultiply\u001b[0m \u001b[1;33m=\u001b[0m \u001b[0mnp\u001b[0m\u001b[1;33m.\u001b[0m\u001b[0mdot\u001b[0m\u001b[1;33m(\u001b[0m\u001b[0minverse_matrix\u001b[0m\u001b[1;33m,\u001b[0m \u001b[0mX\u001b[0m\u001b[1;33m.\u001b[0m\u001b[0mT\u001b[0m\u001b[1;33m)\u001b[0m\u001b[1;33m\u001b[0m\u001b[1;33m\u001b[0m\u001b[0m\n\u001b[0;32m      4\u001b[0m     \u001b[0mtheta\u001b[0m \u001b[1;33m=\u001b[0m \u001b[0mnp\u001b[0m\u001b[1;33m.\u001b[0m\u001b[0mdot\u001b[0m\u001b[1;33m(\u001b[0m\u001b[0mmultiply\u001b[0m\u001b[1;33m,\u001b[0m \u001b[0mY\u001b[0m\u001b[1;33m)\u001b[0m\u001b[1;33m\u001b[0m\u001b[1;33m\u001b[0m\u001b[0m\n\u001b[0;32m      5\u001b[0m     \u001b[1;32mreturn\u001b[0m \u001b[0mtheta\u001b[0m\u001b[1;33m\u001b[0m\u001b[1;33m\u001b[0m\u001b[0m\n",
      "\u001b[1;32mC:\\Anaconda\\lib\\site-packages\\numpy\\linalg\\linalg.py\u001b[0m in \u001b[0;36minv\u001b[1;34m(a)\u001b[0m\n\u001b[0;32m    530\u001b[0m     \u001b[0msignature\u001b[0m \u001b[1;33m=\u001b[0m \u001b[1;34m'D->D'\u001b[0m \u001b[1;32mif\u001b[0m \u001b[0misComplexType\u001b[0m\u001b[1;33m(\u001b[0m\u001b[0mt\u001b[0m\u001b[1;33m)\u001b[0m \u001b[1;32melse\u001b[0m \u001b[1;34m'd->d'\u001b[0m\u001b[1;33m\u001b[0m\u001b[1;33m\u001b[0m\u001b[0m\n\u001b[0;32m    531\u001b[0m     \u001b[0mextobj\u001b[0m \u001b[1;33m=\u001b[0m \u001b[0mget_linalg_error_extobj\u001b[0m\u001b[1;33m(\u001b[0m\u001b[0m_raise_linalgerror_singular\u001b[0m\u001b[1;33m)\u001b[0m\u001b[1;33m\u001b[0m\u001b[1;33m\u001b[0m\u001b[0m\n\u001b[1;32m--> 532\u001b[1;33m     \u001b[0mainv\u001b[0m \u001b[1;33m=\u001b[0m \u001b[0m_umath_linalg\u001b[0m\u001b[1;33m.\u001b[0m\u001b[0minv\u001b[0m\u001b[1;33m(\u001b[0m\u001b[0ma\u001b[0m\u001b[1;33m,\u001b[0m \u001b[0msignature\u001b[0m\u001b[1;33m=\u001b[0m\u001b[0msignature\u001b[0m\u001b[1;33m,\u001b[0m \u001b[0mextobj\u001b[0m\u001b[1;33m=\u001b[0m\u001b[0mextobj\u001b[0m\u001b[1;33m)\u001b[0m\u001b[1;33m\u001b[0m\u001b[1;33m\u001b[0m\u001b[0m\n\u001b[0m\u001b[0;32m    533\u001b[0m     \u001b[1;32mreturn\u001b[0m \u001b[0mwrap\u001b[0m\u001b[1;33m(\u001b[0m\u001b[0mainv\u001b[0m\u001b[1;33m.\u001b[0m\u001b[0mastype\u001b[0m\u001b[1;33m(\u001b[0m\u001b[0mresult_t\u001b[0m\u001b[1;33m,\u001b[0m \u001b[0mcopy\u001b[0m\u001b[1;33m=\u001b[0m\u001b[1;32mFalse\u001b[0m\u001b[1;33m)\u001b[0m\u001b[1;33m)\u001b[0m\u001b[1;33m\u001b[0m\u001b[1;33m\u001b[0m\u001b[0m\n\u001b[0;32m    534\u001b[0m \u001b[1;33m\u001b[0m\u001b[0m\n",
      "\u001b[1;32mC:\\Anaconda\\lib\\site-packages\\numpy\\linalg\\linalg.py\u001b[0m in \u001b[0;36m_raise_linalgerror_singular\u001b[1;34m(err, flag)\u001b[0m\n\u001b[0;32m     87\u001b[0m \u001b[1;33m\u001b[0m\u001b[0m\n\u001b[0;32m     88\u001b[0m \u001b[1;32mdef\u001b[0m \u001b[0m_raise_linalgerror_singular\u001b[0m\u001b[1;33m(\u001b[0m\u001b[0merr\u001b[0m\u001b[1;33m,\u001b[0m \u001b[0mflag\u001b[0m\u001b[1;33m)\u001b[0m\u001b[1;33m:\u001b[0m\u001b[1;33m\u001b[0m\u001b[1;33m\u001b[0m\u001b[0m\n\u001b[1;32m---> 89\u001b[1;33m     \u001b[1;32mraise\u001b[0m \u001b[0mLinAlgError\u001b[0m\u001b[1;33m(\u001b[0m\u001b[1;34m\"Singular matrix\"\u001b[0m\u001b[1;33m)\u001b[0m\u001b[1;33m\u001b[0m\u001b[1;33m\u001b[0m\u001b[0m\n\u001b[0m\u001b[0;32m     90\u001b[0m \u001b[1;33m\u001b[0m\u001b[0m\n\u001b[0;32m     91\u001b[0m \u001b[1;32mdef\u001b[0m \u001b[0m_raise_linalgerror_nonposdef\u001b[0m\u001b[1;33m(\u001b[0m\u001b[0merr\u001b[0m\u001b[1;33m,\u001b[0m \u001b[0mflag\u001b[0m\u001b[1;33m)\u001b[0m\u001b[1;33m:\u001b[0m\u001b[1;33m\u001b[0m\u001b[1;33m\u001b[0m\u001b[0m\n",
      "\u001b[1;31mLinAlgError\u001b[0m: Singular matrix"
     ]
    }
   ],
   "source": [
    "normal_equation(singular_matrix_X, singular_matrix_Y)"
   ]
  },
  {
   "cell_type": "markdown",
   "metadata": {},
   "source": [
    "As expected we get an error. But let's try using the `sklearn` method."
   ]
  },
  {
   "cell_type": "code",
   "execution_count": 23,
   "metadata": {},
   "outputs": [
    {
     "data": {
      "text/plain": [
       "array([-0.26330913,  0.38581458,  0.29504803, -1.06910598, -7.81992674])"
      ]
     },
     "execution_count": 23,
     "metadata": {},
     "output_type": "execute_result"
    }
   ],
   "source": [
    "LinearRegression(fit_intercept=False).fit(singular_matrix_X, singular_matrix_Y).coef_"
   ]
  },
  {
   "cell_type": "markdown",
   "metadata": {},
   "source": [
    "It works it turns out what we need is something very small instead of using inverse of an matrix we need to use [pseudo-inverse](https://en.wikipedia.org/wiki/Moore%E2%80%93Penrose_inverse). So our function should be changed only a little bit and it will work. The pseudo-inverse algorithm for inversing a matrix is implemented in `numpy`, just like the standard inverse algorithm. So our function will look like this:"
   ]
  },
  {
   "cell_type": "code",
   "execution_count": 24,
   "metadata": {},
   "outputs": [],
   "source": [
    "def normal_equation(X, Y):\n",
    "    inverse_matrix = np.linalg.pinv(np.dot(X.T, X))\n",
    "    multiply = np.dot(inverse_matrix, X.T)\n",
    "    theta = np.dot(multiply, Y)\n",
    "    return theta"
   ]
  },
  {
   "cell_type": "code",
   "execution_count": 25,
   "metadata": {},
   "outputs": [
    {
     "data": {
      "text/plain": [
       "array([-0.26330913,  0.38581458,  0.29504803, -1.06910598, -7.81992674])"
      ]
     },
     "execution_count": 25,
     "metadata": {},
     "output_type": "execute_result"
    }
   ],
   "source": [
    "normal_equation(singular_matrix_X, singular_matrix_Y)"
   ]
  },
  {
   "cell_type": "markdown",
   "metadata": {},
   "source": [
    "Although the algorithm works with singular matrixes. Having a singular matrix is certainly some kind of a warning and one of the aproaches described above should be considered."
   ]
  },
  {
   "cell_type": "markdown",
   "metadata": {},
   "source": [
    "### Gradient and descent algorithm"
   ]
  },
  {
   "cell_type": "markdown",
   "metadata": {},
   "source": [
    "One huge disadvantage for the normal equations method is the need to calculate the inverse of $ X^TX $ that is a problem because there is no existing efficient algorithm for finding the inverse of a matrix and this takes $ O(n^3) $ time. Which means that the time required to compute grows with a qubic speed compared to the input size.  \n",
    "So in case we have many features more than 1000 or even more than 10000 we will start seeing how this method becomes slow.\n",
    "Ofcourse more efficient algorithm for finding linear regression in this case exists."
   ]
  },
  {
   "cell_type": "markdown",
   "metadata": {},
   "source": [
    "#### Cost function"
   ]
  },
  {
   "cell_type": "markdown",
   "metadata": {},
   "source": [
    "What we are trying to do with linear regression is to find a line that minimizes the total sum of the errors in the training data. So maybe we can define a function. \n",
    "\n",
    "$$ J(\\theta) = \\sum_{i=1}^{n}(h_\\theta(x^{(i)})-y^{(i)})^2 $$\n",
    "\n",
    "So the minimum of the function $ J $ will give us the theta that best fits the points. This function is commonly called the loss function of linear regression. And a function that takes the avarage error  \n",
    "$$ J(\\theta) = \\frac{1}{n}\\sum_{i=1}^{n}(h_\\theta(x^{(i)})-y^{(i)})^2 $$\n",
    "Is called the cost function. But because we will search for the minimum of the function the cost functions is oftenly taken as half of the cost function because if you are finding the minimum it does not change anything, but it makes math easier, because of derivative calculation. So we will define our final cost function as:\n",
    "$$ J(\\theta) = \\frac{1}{2n}\\sum_{i=1}^{n}(h_\\theta(x^{(i)})-y^{(i)})^2 $$"
   ]
  },
  {
   "cell_type": "markdown",
   "metadata": {},
   "source": [
    "Lets implement this cost function in python."
   ]
  },
  {
   "cell_type": "code",
   "execution_count": 26,
   "metadata": {},
   "outputs": [],
   "source": [
    "def compute_cost(X, Y, theta):\n",
    "    inner = np.power((np.dot(X, theta) - Y), 2)\n",
    "    n, m = X.shape\n",
    "    return np.sum(inner) / (2 * n)"
   ]
  },
  {
   "cell_type": "code",
   "execution_count": 27,
   "metadata": {},
   "outputs": [
    {
     "data": {
      "text/plain": [
       "4.476971375975179"
      ]
     },
     "execution_count": 27,
     "metadata": {},
     "output_type": "execute_result"
    }
   ],
   "source": [
    "compute_cost(population_profit_X, population_profit_Y, normal_equation(population_profit_X, population_profit_Y))"
   ]
  },
  {
   "cell_type": "markdown",
   "metadata": {},
   "source": [
    "#### Cost function minimum"
   ]
  },
  {
   "cell_type": "markdown",
   "metadata": {},
   "source": [
    "To find the minimum we will use an algorithm called gradient descent. What this algorithm basically does is finds the direction where the function decreases the most and takes a step in this direction. That is how at some time it reaches the minimum and stops."
   ]
  },
  {
   "cell_type": "markdown",
   "metadata": {},
   "source": [
    "So the algorithm basically does this.  \n",
    "Repeat until convergence\n",
    "$$ \\theta_j := \\theta_j - \\alpha \\frac{\\partial}{\\partial \\theta_j} J(\\theta) $$\n",
    "Where $ j = 1 \\ldots m $"
   ]
  },
  {
   "cell_type": "markdown",
   "metadata": {},
   "source": [
    "In order to implement this we will need to find the partial derivative of the cost function $ J(\\theta) $ with respect to $ \\theta_j \\hspace{2mm} j= 1\\ldots m $. How this is done is again out of the scope of this notebook so I will just insert the formula. But on this [link](https://mccormickml.com/2014/03/04/gradient-descent-derivation/) you can find how to do it and in general more detailed information about gradient descent algorithm"
   ]
  },
  {
   "cell_type": "markdown",
   "metadata": {},
   "source": [
    "$$ \\frac{\\partial}{\\partial \\theta_j} \\frac{1}{2n}\\sum_{i=1}^{n}(h_\\theta(x^{(i)})-y^{(i)})^2 = \\frac{1}{n}\\sum_{i=1}^{n}(h_\\theta(x^{(i)})-y^{(i)})x^{(i)}_j  $$"
   ]
  },
  {
   "cell_type": "markdown",
   "metadata": {},
   "source": [
    "#### Gradient descent implementation"
   ]
  },
  {
   "cell_type": "markdown",
   "metadata": {},
   "source": [
    "In order to implement the gradient descent we will brake it to three methods, one for calculating the derivative, one for doing the descent step and one for repeating the descent step until convergence."
   ]
  },
  {
   "cell_type": "code",
   "execution_count": 28,
   "metadata": {},
   "outputs": [],
   "source": [
    "def derivative_calc(X, theta, error, j):\n",
    "    term = error * X[:,j]\n",
    "    derivative = np.sum(term) / X.shape[0]\n",
    "    return derivative\n",
    "    \n",
    "\n",
    "def gradient_descent_step(X, Y, theta, alpha, precision):\n",
    "    converge = True\n",
    "    temp = np.zeros(theta.size)\n",
    "    error = np.dot(X, theta) - Y\n",
    "    for j in range(theta.size):\n",
    "        derivative = derivative_calc(X, theta, error, j)\n",
    "        converge = converge and np.absolute(derivative) <= precision \n",
    "        temp[j] = theta[j] - alpha * derivative\n",
    "        \n",
    "    cost = compute_cost(X, Y, temp)\n",
    "    return temp, cost, converge\n",
    "\n",
    "def gradient_descent_convergence(X, Y, theta, alpha, precision = 0):\n",
    "    cost = []\n",
    "    converge = False\n",
    "    while not converge:\n",
    "        theta, currentCost, converge =  gradient_descent_step(X, Y, theta, alpha, precision)\n",
    "        cost.append(currentCost)\n",
    "    return theta, cost\n",
    "\n",
    "def gradient_descent_iterations(X, Y, theta, alpha, iters = 1000):\n",
    "    cost = []\n",
    "    for i in range(iters):\n",
    "        theta, currentCost, converge =  gradient_descent_step(X, Y, theta, alpha, 0)\n",
    "        cost.append(currentCost)\n",
    "        \n",
    "    return theta, cost"
   ]
  },
  {
   "cell_type": "markdown",
   "metadata": {},
   "source": [
    "I implemented two methods for gradient descent algorithm one that repeats the gradient descent step multiple times until convergence and one that does so fixed number of iterations. Both functions return theta and also array that shows how cost function changes to the number of iterations, so we can examine."
   ]
  },
  {
   "cell_type": "code",
   "execution_count": 29,
   "metadata": {},
   "outputs": [
    {
     "data": {
      "image/png": "[encoded data removed]",
      "text/plain": [
       "<Figure size 432x288 with 1 Axes>"
      ]
     },
     "metadata": {
      "needs_background": "light"
     },
     "output_type": "display_data"
    },
    {
     "name": "stdout",
     "output_type": "stream",
     "text": [
      "[-3.89578088  1.19303364]\n",
      "[-3.24140214  1.1272942 ]\n"
     ]
    }
   ],
   "source": [
    "theta, cost = gradient_descent_iterations(population_profit_X, population_profit_Y, np.array([0, 0]), 0.01, 1000)\n",
    "plt.plot(range(len(cost)), cost)\n",
    "plt.xscale(\"log\")\n",
    "plt.show()\n",
    "print(normal_equation(population_profit_X, population_profit_Y))\n",
    "print(theta)"
   ]
  },
  {
   "cell_type": "code",
   "execution_count": 30,
   "metadata": {},
   "outputs": [
    {
     "data": {
      "image/png": "[encoded data removed]",
      "text/plain": [
       "<Figure size 432x288 with 1 Axes>"
      ]
     },
     "metadata": {
      "needs_background": "light"
     },
     "output_type": "display_data"
    },
    {
     "name": "stdout",
     "output_type": "stream",
     "text": [
      "[-3.89578088  1.19303364]\n",
      "[-3.84042927  1.18747297]\n"
     ]
    }
   ],
   "source": [
    "theta, cost = gradient_descent_convergence(population_profit_X, population_profit_Y, np.array([0, 0]), 0.01, precision=0.01)\n",
    "plt.plot(range(len(cost)), cost)\n",
    "plt.xscale(\"log\")\n",
    "plt.show()\n",
    "print(normal_equation(population_profit_X, population_profit_Y))\n",
    "print(theta)"
   ]
  },
  {
   "cell_type": "markdown",
   "metadata": {},
   "source": [
    "Because gradient descent is numerical algorithm and not analytical we will not get perfect solution. Also for datasets with small amount of features it will be actually slower than the normal equation method, as we need to choose $ \\alpha $, which needs to be expirimented with, because if we choose too big $ \\alpha $ the gradient descent will actually never converge and will just diverge and if we choose too small $ \\alpha $ gradient descent will be too slow because it will take only small steps towards the optimum."
   ]
  },
  {
   "cell_type": "markdown",
   "metadata": {},
   "source": [
    "Here is an example with alpha slowly diverging from the optimum"
   ]
  },
  {
   "cell_type": "code",
   "execution_count": 31,
   "metadata": {},
   "outputs": [
    {
     "data": {
      "image/png": "[encoded data removed]",
      "text/plain": [
       "<Figure size 432x288 with 1 Axes>"
      ]
     },
     "metadata": {
      "needs_background": "light"
     },
     "output_type": "display_data"
    }
   ],
   "source": [
    "theta, cost = gradient_descent_iterations(population_profit_X, population_profit_Y, np.array([0, 0]), 0.024325, 10000)\n",
    "plt.plot(range(len(cost)), cost)\n",
    "plt.show()"
   ]
  },
  {
   "cell_type": "markdown",
   "metadata": {},
   "source": [
    "And here is example that with enough number of iterations gradient descent will achieve the same numbers as normal equation. One thing to note is that **$ \\theta $ could look very diferent for normal equation and gradient descent, but the change in the cost function that is actually important to be not so significant**"
   ]
  },
  {
   "cell_type": "code",
   "execution_count": 32,
   "metadata": {},
   "outputs": [
    {
     "name": "stdout",
     "output_type": "stream",
     "text": [
      "[-3.89578088  1.19303364]\n",
      "[-3.89578088  1.19303364]\n"
     ]
    }
   ],
   "source": [
    "theta, _ = gradient_descent_iterations(population_profit_X, population_profit_Y, np.array([0, 0]), 0.01, 100000)\n",
    "print(theta)\n",
    "print(normal_equation(population_profit_X, population_profit_Y))"
   ]
  },
  {
   "cell_type": "markdown",
   "metadata": {},
   "source": [
    "### Feature scaling"
   ]
  },
  {
   "cell_type": "markdown",
   "metadata": {},
   "source": [
    "Another thing to consider with gradient descent is feature scalling. Because $ \\theta $ will descend quickly on small ranges and slowly on large ranges, and so will oscillate inefficiently down to the optimum when the variables are very uneven.  \n",
    "This is actually the case with our `house_price` data. A lot of feature scaling techniques exist. Most comonly used ones are\n",
    "* **Normalization** rescaling data to values between 0 and 1. One possible way to achieve it is with this formula:\n",
    " $$ x^\\prime = \\frac{x-min(x)}{max(x)-min(x)} $$\n",
    "* **Standardization** centering the data arround the zero with standard divietion of one $$ x^\\prime = \\frac{x-mean(x)}{\\sigma} $$\n",
    "\n",
    "Which technique for feature scalling to use is a though question and it depends a lot on your data. But in general every method should  make improvments and also some experiments could be made."
   ]
  },
  {
   "cell_type": "markdown",
   "metadata": {},
   "source": [
    "Let's implement this tecniques in python"
   ]
  },
  {
   "cell_type": "code",
   "execution_count": 33,
   "metadata": {},
   "outputs": [],
   "source": [
    "def min_max_scale(x):\n",
    "    x_prime = (x - x.min()) / (x.max() - x.min())\n",
    "    return x_prime"
   ]
  },
  {
   "cell_type": "code",
   "execution_count": 34,
   "metadata": {},
   "outputs": [],
   "source": [
    "def standardize(x):\n",
    "    x_prime = (x - x.mean()) / x.std()\n",
    "    return x_prime"
   ]
  },
  {
   "cell_type": "markdown",
   "metadata": {},
   "source": [
    "Lets test our implementation comparing it to `sklearn` implementation for feature scaling. Some usefull scalling techniques are implemented in `preprocessing` module of `sklearn`."
   ]
  },
  {
   "cell_type": "code",
   "execution_count": 35,
   "metadata": {},
   "outputs": [],
   "source": [
    "x = population_profit[\"Population\"].to_numpy()"
   ]
  },
  {
   "cell_type": "code",
   "execution_count": 36,
   "metadata": {},
   "outputs": [],
   "source": [
    "actual = min_max_scale(x)\n",
    "expected = preprocessing.minmax_scale(x)\n",
    "assert all([math.isclose(a, e) for a, e in zip(actual, expected)])"
   ]
  },
  {
   "cell_type": "code",
   "execution_count": 37,
   "metadata": {},
   "outputs": [],
   "source": [
    "actual = standardize(x)\n",
    "expected = preprocessing.scale(x)\n",
    "assert all([math.isclose(a, e) for a, e in zip(actual, expected)])"
   ]
  },
  {
   "cell_type": "markdown",
   "metadata": {},
   "source": [
    "Now that we know our feature scalling methods work. We can try using them for our `house_price` dataset. "
   ]
  },
  {
   "cell_type": "markdown",
   "metadata": {},
   "source": [
    "To make feature scaling more usefull for our purposes lets create two methods `getXScaled` and `getYScaled`. That will accept `dataFrame` and a function to scale the values."
   ]
  },
  {
   "cell_type": "code",
   "execution_count": 38,
   "metadata": {},
   "outputs": [],
   "source": [
    "def getXScaled(dataFrame, scale):\n",
    "    n, m = dataFrame.shape\n",
    "    X = dataFrame.iloc[:, 0:m-1].values.astype('float64')\n",
    "    for i in range(1, m-1):\n",
    "        X[:, i] = scale(X[:,i])\n",
    "    return X"
   ]
  },
  {
   "cell_type": "code",
   "execution_count": 39,
   "metadata": {},
   "outputs": [],
   "source": [
    "def getYScaled(dataFrame, scale):\n",
    "    n, m = dataFrame.shape\n",
    "    return scale(dataFrame.iloc[:, m-1].values)"
   ]
  },
  {
   "cell_type": "code",
   "execution_count": 40,
   "metadata": {},
   "outputs": [
    {
     "data": {
      "image/png": "[encoded data removed]",
      "text/plain": [
       "<Figure size 432x288 with 1 Axes>"
      ]
     },
     "metadata": {
      "needs_background": "light"
     },
     "output_type": "display_data"
    },
    {
     "data": {
      "image/png": "[encoded data removed]",
      "text/plain": [
       "<Figure size 432x288 with 1 Axes>"
      ]
     },
     "metadata": {
      "needs_background": "light"
     },
     "output_type": "display_data"
    },
    {
     "data": {
      "image/png": "[encoded data removed]",
      "text/plain": [
       "<Figure size 432x288 with 1 Axes>"
      ]
     },
     "metadata": {
      "needs_background": "light"
     },
     "output_type": "display_data"
    }
   ],
   "source": [
    "def visualize(title, scale = None):\n",
    "    X = population_profit_X\n",
    "    Y = population_profit_Y\n",
    "    if scale != None:\n",
    "        X = getXScaled(population_profit, scale)\n",
    "        Y = getYScaled(population_profit, scale)\n",
    "    theta = normal_equation(X, Y)\n",
    "    plt.scatter(X[:,1], Y)\n",
    "    plt.plot(X[:,1], hypothesis(X, theta))\n",
    "    plt.xlabel(\"Population\")\n",
    "    plt.ylabel(\"Profit\")\n",
    "    plt.title(title)\n",
    "    plt.show()\n",
    "\n",
    "visualize(\"Standardized\", standardize)\n",
    "visualize(\"Normalized\", min_max_scale)\n",
    "visualize(\"No scale\")"
   ]
  },
  {
   "cell_type": "markdown",
   "metadata": {},
   "source": [
    "Here we see that the plots are identical and just with different scale so that gives us confidence that our functions work.  \n",
    "So we can now test gradient descent algorithm with scalled data from `house_prices` data frame."
   ]
  },
  {
   "cell_type": "code",
   "execution_count": 42,
   "metadata": {},
   "outputs": [],
   "source": [
    "house_prices_X = getXScaled(house_prices, standardize)\n",
    "house_prices_Y = getYScaled(house_prices, standardize)"
   ]
  },
  {
   "cell_type": "code",
   "execution_count": 43,
   "metadata": {},
   "outputs": [
    {
     "name": "stdout",
     "output_type": "stream",
     "text": [
      "0.13352749098554287\n",
      "0.13352749098554287\n",
      "[-1.21652097e-16  8.84765988e-01 -5.31788197e-02]\n",
      "[ 4.16333634e-17  8.84765988e-01 -5.31788197e-02]\n"
     ]
    }
   ],
   "source": [
    "theta, cost = gradient_descent_iterations(house_prices_X, house_prices_Y, np.array([0,0,0]), 1)\n",
    "normal_eq_theta = normal_equation(house_prices_X, house_prices_Y)\n",
    "print(compute_cost(house_prices_X, house_prices_Y, theta))\n",
    "print(compute_cost(house_prices_X, house_prices_Y, normal_eq_theta))\n",
    "print(theta)\n",
    "print(normal_eq_theta)"
   ]
  },
  {
   "cell_type": "markdown",
   "metadata": {},
   "source": [
    "### Stochastic gradient descent"
   ]
  },
  {
   "cell_type": "markdown",
   "metadata": {},
   "source": [
    "Gradient descent requires computing the derivative of the function on every step towards the minimum, but computing the derivative is very costly operation, because it requires looping through all the samples in our data. But what if we have **10 milion samples**. Is it really needed to loop through all the data? Well if you want to use what is called **batch gradient descent** yes. But there is **SGD(stochastic gradient descent)**, basically, in **SGD**, we are using the cost gradient of **1 example** at each iteration, instead of using the sum of the cost gradient of **all** examples."
   ]
  },
  {
   "cell_type": "markdown",
   "metadata": {},
   "source": [
    "On the other hand, due to its stochastic (i.e., random) nature, this algorithm is much less regular than Batch Gradient Descent: instead of gently decreasing until it reaches the minimum, the cost function will bounce up and down, decreasing only on average. Over time it will end up very close to the minimum, but once it gets there it will continue to bounce around, never settling down. So once the algorithm stops, the final parameter values are good, but not optimal."
   ]
  },
  {
   "cell_type": "markdown",
   "metadata": {},
   "source": [
    "To implement SGD we only need to add function that will randomly select batch for the descent step and to change the `gradient_descent_step` function to use it."
   ]
  },
  {
   "cell_type": "code",
   "execution_count": 44,
   "metadata": {},
   "outputs": [],
   "source": [
    "def next_batch(X, Y, batchSize = 10):\n",
    "    batch = np.random.randint(0, X.shape[0], size=batchSize)\n",
    "    x = []\n",
    "    y = []\n",
    "    for i in batch:\n",
    "        x.append(X[i])\n",
    "        y.append(Y[i])\n",
    "        \n",
    "    return (np.array(x), np.array(y))\n",
    "        \n",
    "\n",
    "def gradient_descent_step(X, Y, theta, alpha, precision):\n",
    "    converge = True\n",
    "    temp = np.zeros(theta.size)\n",
    "    x, y = next_batch(X, Y)\n",
    "    error = np.dot(x, theta) - y\n",
    "    for j in range(theta.size):\n",
    "        derivative = derivative_calc(x, theta, error, j)\n",
    "        converge = converge and np.absolute(derivative) <= precision \n",
    "        temp[j] = theta[j] - alpha * derivative\n",
    "        \n",
    "    cost = compute_cost(X, Y, temp)\n",
    "    return temp, cost, converge"
   ]
  },
  {
   "cell_type": "code",
   "execution_count": 45,
   "metadata": {},
   "outputs": [
    {
     "data": {
      "image/png": "[encoded data removed]",
      "text/plain": [
       "<Figure size 432x288 with 1 Axes>"
      ]
     },
     "metadata": {
      "needs_background": "light"
     },
     "output_type": "display_data"
    },
    {
     "name": "stdout",
     "output_type": "stream",
     "text": [
      "[-0.57952676  0.86397331]\n",
      "[-3.89578088  1.19303364]\n"
     ]
    }
   ],
   "source": [
    "theta, cost = gradient_descent_iterations(population_profit_X, population_profit_Y, np.array([0,0]), 0.001)\n",
    "plt.plot(range(len(cost)), cost)\n",
    "plt.show()\n",
    "print(theta)\n",
    "print(normal_equation(population_profit_X, population_profit_Y))"
   ]
  },
  {
   "cell_type": "code",
   "execution_count": 47,
   "metadata": {},
   "outputs": [
    {
     "data": {
      "image/png": "[encoded data removed]",
      "text/plain": [
       "<Figure size 432x288 with 1 Axes>"
      ]
     },
     "metadata": {
      "needs_background": "light"
     },
     "output_type": "display_data"
    },
    {
     "name": "stdout",
     "output_type": "stream",
     "text": [
      "[-0.0234088   0.8726388  -0.04993905]\n",
      "[ 4.16333634e-17  8.84765988e-01 -5.31788197e-02]\n"
     ]
    }
   ],
   "source": [
    "theta, cost = gradient_descent_iterations(house_prices_X, house_prices_Y, np.array([0, 0, 0]), 0.01)\n",
    "plt.plot(range(len(cost)), cost)\n",
    "plt.show()\n",
    "print(theta)\n",
    "print(normal_equation(house_prices_X, house_prices_Y))"
   ]
  },
  {
   "cell_type": "markdown",
   "metadata": {},
   "source": [
    "`Sklearn` also provides implementation for SGD, more information on how it could be used can be gained from the [documentation](https://scikit-learn.org/stable/modules/generated/sklearn.linear_model.SGDRegressor.html).  \n",
    "Here is an example with our data for `house_prices` and learning rate $ \\alpha= 0.01 $"
   ]
  },
  {
   "cell_type": "code",
   "execution_count": 47,
   "metadata": {},
   "outputs": [
    {
     "name": "stdout",
     "output_type": "stream",
     "text": [
      "[-0.00620966  0.86525881 -0.02435486]\n"
     ]
    }
   ],
   "source": [
    "print(SGDRegressor(fit_intercept=False, learning_rate=\"constant\", eta0=0.01).fit(house_prices_X, house_prices_Y).coef_)"
   ]
  },
  {
   "cell_type": "markdown",
   "metadata": {},
   "source": [
    "#### Gradient descent disadvantages"
   ]
  },
  {
   "cell_type": "markdown",
   "metadata": {},
   "source": [
    "`Gradient descent` has many disadvantages compared to `Normal equation` method, there is the need for feature scaling, there are many iterations, proper learning rate coeficient should be choosed."
   ]
  },
  {
   "cell_type": "markdown",
   "metadata": {},
   "source": [
    "The following table describes the difference between the `Gradient descent` and `Normal equation` methods. And could be used to tell when to use one and when the other. In general for small amount of features `Normal equation` method is preffered but if you have like 10000 features or  more `Normal equation` just can not scale."
   ]
  },
  {
   "cell_type": "markdown",
   "metadata": {},
   "source": [
    "| Gradient Descent           | Normal Equation                                         |\n",
    "| :------------------------- | :------------------------------------------------------ |\n",
    "| Need to choose alpha       | No need to choose alpha                                 |\n",
    "| Needs many iterations      | No need to iterate                                      |\n",
    "| Needs feature scaling      | No need for feature scaling                             |\n",
    "| $ O (kn^2) $               | $ O (n^3) $                                             |\n",
    "| Works well when n is large | Does not scale                                          |"
   ]
  },
  {
   "cell_type": "markdown",
   "metadata": {},
   "source": [
    "## Metrics used to score linear regression"
   ]
  },
  {
   "cell_type": "markdown",
   "metadata": {},
   "source": [
    "### Mean Squared Error(MSE)"
   ]
  },
  {
   "cell_type": "markdown",
   "metadata": {},
   "source": [
    "MSE is basically what our cost function is \n",
    "$$ MSE = \\frac{1}{n}\\sum(y-\\hat{y})^2 $$\n",
    "Due to its formulation, MSE, just like the squared loss function that it derives from, effectively penalizes larger errors more severely."
   ]
  },
  {
   "cell_type": "markdown",
   "metadata": {},
   "source": [
    "Some variations of **MSE** exists:\n",
    "* **Root Mean Squared Error** that is just equal to $ \\sqrt{MSE} $. \n",
    "* **Mean Absolute Error (MAE)** that just sums the absolute error insetat of the squared error. $ MAE = \\frac{1}{n}\\sum|y-\\hat{y}| $"
   ]
  },
  {
   "cell_type": "markdown",
   "metadata": {},
   "source": [
    "### R² or Coefficient of Determination."
   ]
  },
  {
   "cell_type": "markdown",
   "metadata": {},
   "source": [
    "R-squared evaluates the scatter of the data points around the fitted regression line. It is also called the coefficient of determination, or the coefficient of multiple determination.  \n",
    "R-squared is the percentage of the dependent variable variation that a linear model explains.\n",
    "$$ R^2 = 1 - \\frac{S_e^2}{S_y^2} $$\n",
    "Where $ S_e^2 $ is the Residuals Square Error $ \\sum(y-\\hat{y})^2 $ and $ S_y^2 $ is $ \\sum(y-y.mean())^2 $. \n"
   ]
  },
  {
   "cell_type": "code",
   "execution_count": 48,
   "metadata": {},
   "outputs": [],
   "source": [
    "def residuals_square_error(X, Y, theta):\n",
    "    inner = np.power((np.dot(X, theta) - Y), 2)\n",
    "    return np.sum(inner)\n",
    "\n",
    "def variance(y):\n",
    "    return np.sum(np.power(y-y.mean(),2))\n",
    "\n",
    "def R_squared(X, Y, theta):\n",
    "    return 1 - residuals_square_error(X, Y, theta)/variance(Y)"
   ]
  },
  {
   "cell_type": "code",
   "execution_count": 49,
   "metadata": {},
   "outputs": [
    {
     "data": {
      "text/plain": [
       "0.7020315537841397"
      ]
     },
     "execution_count": 49,
     "metadata": {},
     "output_type": "execute_result"
    }
   ],
   "source": [
    "theta = normal_equation(population_profit_X, population_profit_Y)\n",
    "R_squared(population_profit_X, population_profit_Y, theta)"
   ]
  },
  {
   "cell_type": "markdown",
   "metadata": {},
   "source": [
    "There is $ R^2 $ score implementation in `sklearn`. That accepts the actual and the predicted $ y $."
   ]
  },
  {
   "cell_type": "code",
   "execution_count": 50,
   "metadata": {},
   "outputs": [
    {
     "data": {
      "text/plain": [
       "0.7020315537841397"
      ]
     },
     "execution_count": 50,
     "metadata": {},
     "output_type": "execute_result"
    }
   ],
   "source": [
    "r2_score(population_profit_Y, hypothesis(population_profit_X, theta))"
   ]
  },
  {
   "cell_type": "markdown",
   "metadata": {},
   "source": [
    "### Adjusted R²"
   ]
  },
  {
   "cell_type": "markdown",
   "metadata": {},
   "source": [
    "The problem with $ R^2 $ is that it will always increase when you add features, even if this features actually don't help. It is not possible for it to calculate that. That is why we introduce **adjusted $ R^2 $**, it measures the proportion of variation explained by only those features that really help in explaining the output. It penalizes you for adding features that do not help.\n",
    "\n",
    "Adjusted $ R^2 $ can be calculated from the $ R^2 $ using the following formula: \n",
    "$$ \\bar{R^2} = 1 - (1 - R^2)\\frac{n-1}{n-p-1} $$ \n",
    "Where the number of features is $ p $ and number of samples $ n $."
   ]
  },
  {
   "cell_type": "code",
   "execution_count": 51,
   "metadata": {},
   "outputs": [],
   "source": [
    "def adjusted_R_squared(X, Y, theta):\n",
    "    return 1 - (1-R_squared(X, Y, theta))*((X.shape[0]-1)/(X.shape[0] - X.shape[1]))"
   ]
  },
  {
   "cell_type": "code",
   "execution_count": 52,
   "metadata": {},
   "outputs": [
    {
     "data": {
      "text/plain": [
       "0.6988950438239727"
      ]
     },
     "execution_count": 52,
     "metadata": {},
     "output_type": "execute_result"
    }
   ],
   "source": [
    "adjusted_R_squared(population_profit_X, population_profit_Y, theta)"
   ]
  },
  {
   "cell_type": "markdown",
   "metadata": {},
   "source": [
    "## Things that are left"
   ]
  },
  {
   "cell_type": "markdown",
   "metadata": {},
   "source": [
    "* [dummy variable](https://en.wikipedia.org/wiki/Dummy_variable_(statistics)) a way to encode categorical  features for linear regression. Categorical features means feature with fixed amount of values for example gender: Male, Female\n",
    "\n",
    "* [interaction-terms](https://statisticsbyjim.com/regression/interaction-effects/) used in situations where the dependence is not exactly linear"
   ]
  },
  {
   "cell_type": "markdown",
   "metadata": {},
   "source": [
    "## Reletated articles"
   ]
  },
  {
   "cell_type": "markdown",
   "metadata": {},
   "source": [
    "* **Supervised vs Unsupervised learning** https://medium.com/@gowthamy/machine-learning-supervised-learning-vs-unsupervised-learning-f1658e12a780\n",
    "* **Andrew Ng course week 1 and week 2**: https://www.coursera.org/learn/machine-learning/ \n",
    "* **Linear regression in python**: [link1](https://www.johnwittenauer.net/machine-learning-exercises-in-python-part-1/) [link2](https://www.johnwittenauer.net/machine-learning-exercises-in-python-part-2/) [link3](https://nbviewer.jupyter.org/github/jdwittenauer/ipython-notebooks/blob/master/notebooks/ml/ML-Exercise1.ipynb) [lin4](https://towardsdatascience.com/linear-regression-detailed-view-ea73175f6e86)\n",
    "* **Normal equation** https://www.khanacademy.org/math/linear-algebra/alternate-bases/orthogonal-projections/v/linear-algebra-least-squares-approximation\n",
    "* **Gradient descent** https://mccormickml.com/2014/03/04/gradient-descent-derivation/\n",
    "* **Stochastic gradeint descent** https://towardsdatascience.com/difference-between-batch-gradient-descent-and-stochastic-gradient-descent-1187f1291aa1\n",
    "* **$R^2$ score** https://www.statlect.com/fundamentals-of-statistics/R-squared-of-a-linear-regression"
   ]
  },
  {
   "cell_type": "markdown",
   "metadata": {},
   "source": [
    "## Citations"
   ]
  },
  {
   "cell_type": "markdown",
   "metadata": {},
   "source": [
    "Travis E. Oliphant. A guide to NumPy, USA: Trelgol Publishing, (2006).\n",
    "\n",
    "Stéfan van der Walt, S. Chris Colbert and Gaël Varoquaux. The NumPy Array: A Structure for Efficient Numerical Computation, Computing in Science & Engineering, 13, 22-30 (2011), [DOI:10.1109/MCSE.2011.37](https://ieeexplore.ieee.org/document/5725236) [(publisher link)](http://scitation.aip.org/content/aip/journal/cise/13/2/10.1109/MCSE.2011.37)"
   ]
  },
  {
   "cell_type": "markdown",
   "metadata": {},
   "source": [
    "John D. Hunter. Matplotlib: A 2D Graphics Environment, Computing in Science & Engineering, 9, 90-95 (2007), [DOI:10.1109/MCSE.2007.55](https://ieeexplore.ieee.org/document/4160265) [(publisher link)](https://ieeexplore.ieee.org/document/4160251)"
   ]
  },
  {
   "cell_type": "markdown",
   "metadata": {},
   "source": [
    "Wes McKinney. Data Structures for Statistical Computing in Python, Proceedings of the 9th Python in Science Conference, 51-56 (2010) [(publisher link)](http://conference.scipy.org/proceedings/scipy2010/mckinney.html)"
   ]
  },
  {
   "cell_type": "markdown",
   "metadata": {},
   "source": [
    "Fabian Pedregosa, Gaël Varoquaux, Alexandre Gramfort, Vincent Michel, Bertrand Thirion, Olivier Grisel, Mathieu Blondel, Peter Prettenhofer, Ron Weiss, Vincent Dubourg, Jake Vanderplas, Alexandre Passos, David Cournapeau, Matthieu Brucher, Matthieu Perrot, Édouard Duchesnay. Scikit-learn: Machine Learning in Python, Journal of Machine Learning Research, 12, 2825-2830 (2011) [(publisher link)](http://jmlr.org/papers/v12/pedregosa11a.html)"
   ]
  }
 ],
 "metadata": {
  "kernelspec": {
   "display_name": "Python 3",
   "language": "python",
   "name": "python3"
  },
  "language_info": {
   "codemirror_mode": {
    "name": "ipython",
    "version": 3
   },
   "file_extension": ".py",
   "mimetype": "text/x-python",
   "name": "python",
   "nbconvert_exporter": "python",
   "pygments_lexer": "ipython3",
   "version": "3.7.4"
  }
 },
 "nbformat": 4,
 "nbformat_minor": 2
}
